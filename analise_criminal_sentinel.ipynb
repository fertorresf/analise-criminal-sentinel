{
  "nbformat": 4,
  "nbformat_minor": 0,
  "metadata": {
    "colab": {
      "provenance": []
    },
    "kernelspec": {
      "name": "python3",
      "display_name": "Python 3"
    },
    "language_info": {
      "name": "python"
    }
  },
  "cells": [
    {
      "cell_type": "markdown",
      "source": [
        "# Passo 1: Captura dos Dados\n",
        "\n",
        "Este Jupyter Notebook servirá como guia para a análise de dados de ocorrências criminais na cidade de Lins, SP. Neste primeiro passo, vamos coletar os dados brutos dos arquivos fornecidos.\n",
        "\n",
        "Este Jupyter Notebook fornecerá um guia completo para a análise de dados de ocorrências criminais em Lins, com explicações detalhadas para cada passo."
      ],
      "metadata": {
        "id": "o1ok0cLsfki_"
      }
    },
    {
      "cell_type": "markdown",
      "source": [
        "## Importando bibliotecas\n",
        "\n",
        "Importamos a biblioteca Pandas para manipulação de dados."
      ],
      "metadata": {
        "id": "IQspep2KeNCP"
      }
    },
    {
      "cell_type": "code",
      "execution_count": 1,
      "metadata": {
        "id": "scQ3W_zCeMLN"
      },
      "outputs": [],
      "source": [
        "import pandas as pd"
      ]
    },
    {
      "cell_type": "markdown",
      "source": [
        "## Definindo caminho para os arquivos:\n",
        "Definimos o caminho para a pasta onde os arquivos estão armazenados. É importante adaptar o caminho de acordo com a estrutura do seu repositório.\n",
        "Criamos uma lista com os nomes dos arquivos."
      ],
      "metadata": {
        "id": "mx-y6VDReXCv"
      }
    },
    {
      "cell_type": "code",
      "source": [
        "path = \"data/raw/\" # Substitua pelo caminho correto para a pasta \"data/raw/\" no seu repositório\n",
        "\n",
        "files = [\n",
        "    \"ocorrencia_mensal_criminal_lins_2020.xlsx\",\n",
        "    \"ocorrencia_mensal_criminal_lins_2021.xlsx\",\n",
        "    \"ocorrencia_mensal_criminal_lins_2022.xlsx\",\n",
        "    \"ocorrencia_mensal_criminal_lins_2023.xlsx\",\n",
        "    \"ocorrencia_mensal_criminal_lins_2024_updating.xlsx\"\n",
        "]"
      ],
      "metadata": {
        "id": "Xj_wqphJeZh6"
      },
      "execution_count": 2,
      "outputs": []
    },
    {
      "cell_type": "markdown",
      "source": [
        "## Carregando os dados para DataFrames:\n",
        "Usamos a função pd.read_excel para ler cada arquivo Excel e criar um DataFrame Pandas para cada um."
      ],
      "metadata": {
        "id": "YTl8-5cjewCn"
      }
    },
    {
      "cell_type": "code",
      "source": [
        "dfs = []\n",
        "\n",
        "for file in files:\n",
        "    df = pd.read_excel(path + file)\n",
        "    dfs.append(df)"
      ],
      "metadata": {
        "colab": {
          "base_uri": "https://localhost:8080/"
        },
        "id": "EUHMdqIKexew",
        "outputId": "ca060d2e-873e-4ca2-cd18-e9bcd45708c6"
      },
      "execution_count": 3,
      "outputs": [
        {
          "output_type": "stream",
          "name": "stderr",
          "text": [
            "/usr/local/lib/python3.10/dist-packages/openpyxl/styles/stylesheet.py:226: UserWarning: Workbook contains no default style, apply openpyxl's default\n",
            "  warn(\"Workbook contains no default style, apply openpyxl's default\")\n",
            "/usr/local/lib/python3.10/dist-packages/openpyxl/styles/stylesheet.py:226: UserWarning: Workbook contains no default style, apply openpyxl's default\n",
            "  warn(\"Workbook contains no default style, apply openpyxl's default\")\n",
            "/usr/local/lib/python3.10/dist-packages/openpyxl/styles/stylesheet.py:226: UserWarning: Workbook contains no default style, apply openpyxl's default\n",
            "  warn(\"Workbook contains no default style, apply openpyxl's default\")\n",
            "/usr/local/lib/python3.10/dist-packages/openpyxl/styles/stylesheet.py:226: UserWarning: Workbook contains no default style, apply openpyxl's default\n",
            "  warn(\"Workbook contains no default style, apply openpyxl's default\")\n",
            "/usr/local/lib/python3.10/dist-packages/openpyxl/styles/stylesheet.py:226: UserWarning: Workbook contains no default style, apply openpyxl's default\n",
            "  warn(\"Workbook contains no default style, apply openpyxl's default\")\n"
          ]
        }
      ]
    },
    {
      "cell_type": "markdown",
      "source": [
        "## Concatenando os DataFrames:\n",
        "Usamos a função pd.concat para juntar todos os DataFrames em um único DataFrame."
      ],
      "metadata": {
        "id": "2JGFZ5dte06s"
      }
    },
    {
      "cell_type": "code",
      "source": [
        "df_total = pd.concat(dfs, ignore_index=True)"
      ],
      "metadata": {
        "id": "FWNhSAS7e2E3"
      },
      "execution_count": 4,
      "outputs": []
    },
    {
      "cell_type": "markdown",
      "source": [
        "## Verificando os dados carregados:\n",
        "Exibimos as primeiras linhas do DataFrame e informações gerais sobre os dados usando df_total.head() e df_total.info()."
      ],
      "metadata": {
        "id": "9VEZSOg6e4_1"
      }
    },
    {
      "cell_type": "code",
      "source": [
        "print(df_total.head())\n",
        "print(df_total.info())"
      ],
      "metadata": {
        "colab": {
          "base_uri": "https://localhost:8080/"
        },
        "id": "Gd-ZZ0dDe6WU",
        "outputId": "700c6608-13b0-468e-d77d-562f66040650"
      },
      "execution_count": 5,
      "outputs": [
        {
          "output_type": "stream",
          "name": "stdout",
          "text": [
            "                                            Natureza  Janeiro  Fevereiro  \\\n",
            "0                               HOMICÍDIO DOLOSO (2)        0          1   \n",
            "1              Nº DE VÍTIMAS EM HOMICÍDIO DOLOSO (3)        0          1   \n",
            "2          HOMICÍDIO DOLOSO POR ACIDENTE DE TRÂNSITO        0          0   \n",
            "3  Nº DE VÍTIMAS EM HOMICÍDIO DOLOSO POR ACIDENTE...        0          0   \n",
            "4         HOMICÍDIO CULPOSO POR ACIDENTE DE TRÂNSITO        1          0   \n",
            "\n",
            "   Marco  Abril Maio Junho Julho Agosto Setembro Outubro Novembro Dezembro  \\\n",
            "0      0      1    0     0     1      1        1       0        1        2   \n",
            "1      0      1    0     0     1      1        1       0        1        2   \n",
            "2      0      0    0     0     0      0        0       0        0        0   \n",
            "3      0      0    0     0     0      0        0       0        0        0   \n",
            "4      1      1    1     1     2      0        2       1        0        1   \n",
            "\n",
            "   Total  \n",
            "0    8.0  \n",
            "1    8.0  \n",
            "2    0.0  \n",
            "3    0.0  \n",
            "4   11.0  \n",
            "<class 'pandas.core.frame.DataFrame'>\n",
            "RangeIndex: 115 entries, 0 to 114\n",
            "Data columns (total 14 columns):\n",
            " #   Column     Non-Null Count  Dtype  \n",
            "---  ------     --------------  -----  \n",
            " 0   Natureza   115 non-null    object \n",
            " 1   Janeiro    115 non-null    int64  \n",
            " 2   Fevereiro  115 non-null    int64  \n",
            " 3   Marco      115 non-null    int64  \n",
            " 4   Abril      115 non-null    int64  \n",
            " 5   Maio       115 non-null    object \n",
            " 6   Junho      115 non-null    object \n",
            " 7   Julho      115 non-null    object \n",
            " 8   Agosto     115 non-null    object \n",
            " 9   Setembro   115 non-null    object \n",
            " 10  Outubro    115 non-null    object \n",
            " 11  Novembro   115 non-null    object \n",
            " 12  Dezembro   115 non-null    object \n",
            " 13  Total      115 non-null    float64\n",
            "dtypes: float64(1), int64(4), object(9)\n",
            "memory usage: 12.7+ KB\n",
            "None\n"
          ]
        }
      ]
    },
    {
      "cell_type": "markdown",
      "source": [
        "## Próximos passos:\n",
        "\n",
        "- Limpar e preparar os dados para análise, incluindo:\n",
        " - Eliminar colunas irrelevantes.\n",
        " - Converter tipos de dados para os mais adequados.\n",
        " - Tratar valores faltantes.\n",
        " - Renomear colunas e remover caracteres especiais.\n",
        "- Realizar análise exploratória dos dados.\n",
        "- Criar visualizações para comunicar os insights obtidos."
      ],
      "metadata": {
        "id": "pLr1J8XBgNC5"
      }
    },
    {
      "cell_type": "markdown",
      "source": [
        "# Passo 2: Processamento dos Dados\n",
        "\n",
        "Neste passo, vamos preparar os dados para a análise, realizando a limpeza e o tratamento necessários.\n",
        "\n",
        "Este notebook mostra como realizar a limpeza e o processamento dos dados para análise, garantindo que os dados estejam em um formato adequado e confiável para análise."
      ],
      "metadata": {
        "id": "-Xnf1Jelf0fX"
      }
    },
    {
      "cell_type": "markdown",
      "source": [
        "## Importando Bibliotecas:"
      ],
      "metadata": {
        "id": "qEhkfhXSggAW"
      }
    },
    {
      "cell_type": "code",
      "source": [
        "import pandas as pd"
      ],
      "metadata": {
        "id": "ZlX66WikgcPz"
      },
      "execution_count": null,
      "outputs": []
    },
    {
      "cell_type": "markdown",
      "source": [
        "## Carregando o DataFrame:"
      ],
      "metadata": {
        "id": "TAjLRL_5gi_7"
      }
    },
    {
      "cell_type": "code",
      "source": [
        "# Assumindo que o DataFrame 'df_total' foi criado no passo anterior\n",
        "# ..."
      ],
      "metadata": {
        "id": "1-piliPUglXm"
      },
      "execution_count": null,
      "outputs": []
    },
    {
      "cell_type": "markdown",
      "source": [
        "## Limpando os Dados:\n",
        "\n",
        "Removemos colunas que não são relevantes para a análise, como as que contam o número de vítimas, pois já temos a contagem total de ocorrências.\n",
        "\n",
        "- Removendo Colunas Irrelevantes:"
      ],
      "metadata": {
        "id": "VeJYPdEngp8b"
      }
    },
    {
      "cell_type": "code",
      "source": [
        "df_total = df_total.drop(columns=[\"Nº DE VÍTIMAS EM HOMICÍDIO DOLOSO\", \"Nº DE VÍTIMAS EM HOMICÍDIO DOLOSO POR ACIDENTE DE TRÂNSITO\", \"Nº DE VÍTIMAS EM LATROCÍNIO\"])"
      ],
      "metadata": {
        "colab": {
          "base_uri": "https://localhost:8080/",
          "height": 321
        },
        "id": "ZjpktvlWgw5j",
        "outputId": "9c012b18-6f0b-4f4f-8b1e-fc3d4d65379b"
      },
      "execution_count": 6,
      "outputs": [
        {
          "output_type": "error",
          "ename": "KeyError",
          "evalue": "\"['Nº DE VÍTIMAS EM HOMICÍDIO DOLOSO', 'Nº DE VÍTIMAS EM HOMICÍDIO DOLOSO POR ACIDENTE DE TRÂNSITO', 'Nº DE VÍTIMAS EM LATROCÍNIO'] not found in axis\"",
          "traceback": [
            "\u001b[0;31m---------------------------------------------------------------------------\u001b[0m",
            "\u001b[0;31mKeyError\u001b[0m                                  Traceback (most recent call last)",
            "\u001b[0;32m<ipython-input-6-5e93422f3a4b>\u001b[0m in \u001b[0;36m<cell line: 1>\u001b[0;34m()\u001b[0m\n\u001b[0;32m----> 1\u001b[0;31m \u001b[0mdf_total\u001b[0m \u001b[0;34m=\u001b[0m \u001b[0mdf_total\u001b[0m\u001b[0;34m.\u001b[0m\u001b[0mdrop\u001b[0m\u001b[0;34m(\u001b[0m\u001b[0mcolumns\u001b[0m\u001b[0;34m=\u001b[0m\u001b[0;34m[\u001b[0m\u001b[0;34m\"Nº DE VÍTIMAS EM HOMICÍDIO DOLOSO\"\u001b[0m\u001b[0;34m,\u001b[0m \u001b[0;34m\"Nº DE VÍTIMAS EM HOMICÍDIO DOLOSO POR ACIDENTE DE TRÂNSITO\"\u001b[0m\u001b[0;34m,\u001b[0m \u001b[0;34m\"Nº DE VÍTIMAS EM LATROCÍNIO\"\u001b[0m\u001b[0;34m]\u001b[0m\u001b[0;34m)\u001b[0m\u001b[0;34m\u001b[0m\u001b[0;34m\u001b[0m\u001b[0m\n\u001b[0m",
            "\u001b[0;32m/usr/local/lib/python3.10/dist-packages/pandas/core/frame.py\u001b[0m in \u001b[0;36mdrop\u001b[0;34m(self, labels, axis, index, columns, level, inplace, errors)\u001b[0m\n\u001b[1;32m   5256\u001b[0m                 \u001b[0mweight\u001b[0m  \u001b[0;36m1.0\u001b[0m     \u001b[0;36m0.8\u001b[0m\u001b[0;34m\u001b[0m\u001b[0;34m\u001b[0m\u001b[0m\n\u001b[1;32m   5257\u001b[0m         \"\"\"\n\u001b[0;32m-> 5258\u001b[0;31m         return super().drop(\n\u001b[0m\u001b[1;32m   5259\u001b[0m             \u001b[0mlabels\u001b[0m\u001b[0;34m=\u001b[0m\u001b[0mlabels\u001b[0m\u001b[0;34m,\u001b[0m\u001b[0;34m\u001b[0m\u001b[0;34m\u001b[0m\u001b[0m\n\u001b[1;32m   5260\u001b[0m             \u001b[0maxis\u001b[0m\u001b[0;34m=\u001b[0m\u001b[0maxis\u001b[0m\u001b[0;34m,\u001b[0m\u001b[0;34m\u001b[0m\u001b[0;34m\u001b[0m\u001b[0m\n",
            "\u001b[0;32m/usr/local/lib/python3.10/dist-packages/pandas/core/generic.py\u001b[0m in \u001b[0;36mdrop\u001b[0;34m(self, labels, axis, index, columns, level, inplace, errors)\u001b[0m\n\u001b[1;32m   4547\u001b[0m         \u001b[0;32mfor\u001b[0m \u001b[0maxis\u001b[0m\u001b[0;34m,\u001b[0m \u001b[0mlabels\u001b[0m \u001b[0;32min\u001b[0m \u001b[0maxes\u001b[0m\u001b[0;34m.\u001b[0m\u001b[0mitems\u001b[0m\u001b[0;34m(\u001b[0m\u001b[0;34m)\u001b[0m\u001b[0;34m:\u001b[0m\u001b[0;34m\u001b[0m\u001b[0;34m\u001b[0m\u001b[0m\n\u001b[1;32m   4548\u001b[0m             \u001b[0;32mif\u001b[0m \u001b[0mlabels\u001b[0m \u001b[0;32mis\u001b[0m \u001b[0;32mnot\u001b[0m \u001b[0;32mNone\u001b[0m\u001b[0;34m:\u001b[0m\u001b[0;34m\u001b[0m\u001b[0;34m\u001b[0m\u001b[0m\n\u001b[0;32m-> 4549\u001b[0;31m                 \u001b[0mobj\u001b[0m \u001b[0;34m=\u001b[0m \u001b[0mobj\u001b[0m\u001b[0;34m.\u001b[0m\u001b[0m_drop_axis\u001b[0m\u001b[0;34m(\u001b[0m\u001b[0mlabels\u001b[0m\u001b[0;34m,\u001b[0m \u001b[0maxis\u001b[0m\u001b[0;34m,\u001b[0m \u001b[0mlevel\u001b[0m\u001b[0;34m=\u001b[0m\u001b[0mlevel\u001b[0m\u001b[0;34m,\u001b[0m \u001b[0merrors\u001b[0m\u001b[0;34m=\u001b[0m\u001b[0merrors\u001b[0m\u001b[0;34m)\u001b[0m\u001b[0;34m\u001b[0m\u001b[0;34m\u001b[0m\u001b[0m\n\u001b[0m\u001b[1;32m   4550\u001b[0m \u001b[0;34m\u001b[0m\u001b[0m\n\u001b[1;32m   4551\u001b[0m         \u001b[0;32mif\u001b[0m \u001b[0minplace\u001b[0m\u001b[0;34m:\u001b[0m\u001b[0;34m\u001b[0m\u001b[0;34m\u001b[0m\u001b[0m\n",
            "\u001b[0;32m/usr/local/lib/python3.10/dist-packages/pandas/core/generic.py\u001b[0m in \u001b[0;36m_drop_axis\u001b[0;34m(self, labels, axis, level, errors, only_slice)\u001b[0m\n\u001b[1;32m   4589\u001b[0m                 \u001b[0mnew_axis\u001b[0m \u001b[0;34m=\u001b[0m \u001b[0maxis\u001b[0m\u001b[0;34m.\u001b[0m\u001b[0mdrop\u001b[0m\u001b[0;34m(\u001b[0m\u001b[0mlabels\u001b[0m\u001b[0;34m,\u001b[0m \u001b[0mlevel\u001b[0m\u001b[0;34m=\u001b[0m\u001b[0mlevel\u001b[0m\u001b[0;34m,\u001b[0m \u001b[0merrors\u001b[0m\u001b[0;34m=\u001b[0m\u001b[0merrors\u001b[0m\u001b[0;34m)\u001b[0m\u001b[0;34m\u001b[0m\u001b[0;34m\u001b[0m\u001b[0m\n\u001b[1;32m   4590\u001b[0m             \u001b[0;32melse\u001b[0m\u001b[0;34m:\u001b[0m\u001b[0;34m\u001b[0m\u001b[0;34m\u001b[0m\u001b[0m\n\u001b[0;32m-> 4591\u001b[0;31m                 \u001b[0mnew_axis\u001b[0m \u001b[0;34m=\u001b[0m \u001b[0maxis\u001b[0m\u001b[0;34m.\u001b[0m\u001b[0mdrop\u001b[0m\u001b[0;34m(\u001b[0m\u001b[0mlabels\u001b[0m\u001b[0;34m,\u001b[0m \u001b[0merrors\u001b[0m\u001b[0;34m=\u001b[0m\u001b[0merrors\u001b[0m\u001b[0;34m)\u001b[0m\u001b[0;34m\u001b[0m\u001b[0;34m\u001b[0m\u001b[0m\n\u001b[0m\u001b[1;32m   4592\u001b[0m             \u001b[0mindexer\u001b[0m \u001b[0;34m=\u001b[0m \u001b[0maxis\u001b[0m\u001b[0;34m.\u001b[0m\u001b[0mget_indexer\u001b[0m\u001b[0;34m(\u001b[0m\u001b[0mnew_axis\u001b[0m\u001b[0;34m)\u001b[0m\u001b[0;34m\u001b[0m\u001b[0;34m\u001b[0m\u001b[0m\n\u001b[1;32m   4593\u001b[0m \u001b[0;34m\u001b[0m\u001b[0m\n",
            "\u001b[0;32m/usr/local/lib/python3.10/dist-packages/pandas/core/indexes/base.py\u001b[0m in \u001b[0;36mdrop\u001b[0;34m(self, labels, errors)\u001b[0m\n\u001b[1;32m   6697\u001b[0m         \u001b[0;32mif\u001b[0m \u001b[0mmask\u001b[0m\u001b[0;34m.\u001b[0m\u001b[0many\u001b[0m\u001b[0;34m(\u001b[0m\u001b[0;34m)\u001b[0m\u001b[0;34m:\u001b[0m\u001b[0;34m\u001b[0m\u001b[0;34m\u001b[0m\u001b[0m\n\u001b[1;32m   6698\u001b[0m             \u001b[0;32mif\u001b[0m \u001b[0merrors\u001b[0m \u001b[0;34m!=\u001b[0m \u001b[0;34m\"ignore\"\u001b[0m\u001b[0;34m:\u001b[0m\u001b[0;34m\u001b[0m\u001b[0;34m\u001b[0m\u001b[0m\n\u001b[0;32m-> 6699\u001b[0;31m                 \u001b[0;32mraise\u001b[0m \u001b[0mKeyError\u001b[0m\u001b[0;34m(\u001b[0m\u001b[0;34mf\"{list(labels[mask])} not found in axis\"\u001b[0m\u001b[0;34m)\u001b[0m\u001b[0;34m\u001b[0m\u001b[0;34m\u001b[0m\u001b[0m\n\u001b[0m\u001b[1;32m   6700\u001b[0m             \u001b[0mindexer\u001b[0m \u001b[0;34m=\u001b[0m \u001b[0mindexer\u001b[0m\u001b[0;34m[\u001b[0m\u001b[0;34m~\u001b[0m\u001b[0mmask\u001b[0m\u001b[0;34m]\u001b[0m\u001b[0;34m\u001b[0m\u001b[0;34m\u001b[0m\u001b[0m\n\u001b[1;32m   6701\u001b[0m         \u001b[0;32mreturn\u001b[0m \u001b[0mself\u001b[0m\u001b[0;34m.\u001b[0m\u001b[0mdelete\u001b[0m\u001b[0;34m(\u001b[0m\u001b[0mindexer\u001b[0m\u001b[0;34m)\u001b[0m\u001b[0;34m\u001b[0m\u001b[0;34m\u001b[0m\u001b[0m\n",
            "\u001b[0;31mKeyError\u001b[0m: \"['Nº DE VÍTIMAS EM HOMICÍDIO DOLOSO', 'Nº DE VÍTIMAS EM HOMICÍDIO DOLOSO POR ACIDENTE DE TRÂNSITO', 'Nº DE VÍTIMAS EM LATROCÍNIO'] not found in axis\""
          ]
        }
      ]
    },
    {
      "cell_type": "markdown",
      "source": [
        "Renomeamos as colunas para facilitar a manipulação e a leitura dos dados, utilizando nomes mais descritivos e sem caracteres especiais.\n",
        "\n",
        "- Renomeando Colunas:"
      ],
      "metadata": {
        "id": "FrbISqejgza1"
      }
    },
    {
      "cell_type": "code",
      "source": [
        "df_total = df_total.rename(columns={\"TOTAL DE ESTUPRO (4)\": \"TOTAL_ESTUPRO\", \"TOTAL DE ROUBO - OUTROS (1)\": \"TOTAL_ROUBO_OUTROS\", \"HOMICÍDIO DOLOSO (2)\": \"HOMICIDIO_DOLOSO\"})"
      ],
      "metadata": {
        "id": "v1C0DxXXg2D_"
      },
      "execution_count": 7,
      "outputs": []
    },
    {
      "cell_type": "markdown",
      "source": [
        "Substituímos vírgulas por pontos para que os valores numéricos sejam lidos corretamente.\n",
        "\n",
        "- Substituindo Caracteres Especiais:"
      ],
      "metadata": {
        "id": "pNpMiNang4Bm"
      }
    },
    {
      "cell_type": "code",
      "source": [
        "df_total = df_total.replace(\",\", \".\", regex=True)"
      ],
      "metadata": {
        "id": "LxACjiAdg5zl"
      },
      "execution_count": 8,
      "outputs": []
    },
    {
      "cell_type": "markdown",
      "source": [
        "Convertemos as colunas para o tipo numérico usando pd.to_numeric, tratando possíveis erros de conversão com errors='coerce'.\n",
        "\n",
        "- Convertendo Tipos de Dados:\n"
      ],
      "metadata": {
        "id": "eXiZoFeYg72J"
      }
    },
    {
      "cell_type": "code",
      "source": [
        "df_total = df_total.apply(pd.to_numeric, errors='coerce')"
      ],
      "metadata": {
        "id": "q1uJf8Qvg9TQ"
      },
      "execution_count": 9,
      "outputs": []
    },
    {
      "cell_type": "markdown",
      "source": [
        "## Tratando Valores Faltantes:\n",
        "\n",
        "Substituímos os valores faltantes por zero, assumindo que a ausência de dados significa que não houve ocorrências.\n",
        "\n",
        "Substituindo por Zero:"
      ],
      "metadata": {
        "id": "B5pP4WY8hAQa"
      }
    },
    {
      "cell_type": "code",
      "source": [
        "df_total = df_total.fillna(0)"
      ],
      "metadata": {
        "id": "D6NAvBPzhCdc"
      },
      "execution_count": 10,
      "outputs": []
    },
    {
      "cell_type": "markdown",
      "source": [
        "## Criando Coluna de Ano:\n",
        "\n",
        "Criamos uma coluna \"Ano\" para indicar o ano das ocorrências, assumindo que todos os dados são de 2024."
      ],
      "metadata": {
        "id": "IVlkMkBAhEMp"
      }
    },
    {
      "cell_type": "code",
      "source": [
        "df_total[\"Ano\"] = 2024 # Assumindo que todos os dados são de 2024"
      ],
      "metadata": {
        "id": "TznyQL7-hHrp"
      },
      "execution_count": 11,
      "outputs": []
    },
    {
      "cell_type": "markdown",
      "source": [
        "## Salvando o DataFrame Processado:\n",
        "\n",
        "Salvamos o DataFrame processado em um arquivo CSV na pasta \"data/processed/\"."
      ],
      "metadata": {
        "id": "nwJGC9T8hLl5"
      }
    },
    {
      "cell_type": "code",
      "source": [
        "df_total.to_csv(\"data/processed/dados_limpos.csv\", index=False)"
      ],
      "metadata": {
        "id": "APCNRvnxhORy"
      },
      "execution_count": 12,
      "outputs": []
    },
    {
      "cell_type": "markdown",
      "source": [
        "## Próximos passos:\n",
        "\n",
        "- Realizar a análise exploratória dos dados processados.\n",
        "- Criar visualizações para comunicar os insights obtidos.\n",
        "- Investigar a necessidade de modelos preditivos ou outros tipos de análise mais complexos."
      ],
      "metadata": {
        "id": "D_3c2Gdrhvco"
      }
    },
    {
      "cell_type": "markdown",
      "source": [
        "# No entanto, podemos adicionar outras etapas importantes de pré-processamento, como:\n",
        "\n",
        "## Criação de Novas Variáveis:\n",
        "- Criar colunas que representem a soma das ocorrências por trimestre ou semestre.\n",
        "- Criar uma coluna que represente a taxa de ocorrências por 100 mil habitantes (caso tenha dados populacionais).\n",
        "- Criar colunas categóricas que agrupem crimes semelhantes (por exemplo, \"Crimes Violentos\", \"Crimes Patrimoniais\").\n",
        "\n",
        "## Escalonamento de Dados:\n",
        "- Se você for usar modelos de Machine Learning que exigem escalonamento de dados, como Regressão Linear ou Redes Neurais, é importante realizar essa etapa.\n",
        "- Você pode usar técnicas como:\n",
        " - Normalização: Escalonar os dados para um intervalo entre 0 e 1.\n",
        " - Padronização: Centralizar os dados e dividi-los pelo desvio padrão.\n",
        "\n",
        "## Transformação de Dados:\n",
        "- Logaritmo: Aplicar a função logarítmica para dados com distribuição enviesada.\n",
        "- Padronização: Aplicar a função logarítmica para dados com distribuição enviesada.\n",
        "- One-Hot Encoding: Converter variáveis categóricas em variáveis numéricas, criando colunas binárias (0 ou 1).\n",
        "\n",
        "Exemplo de Criação de Novas Variáveis:"
      ],
      "metadata": {
        "id": "t-1I_08Hieza"
      }
    },
    {
      "cell_type": "code",
      "source": [
        "df_total['Total_Primeiro_Trimestre'] = df_total['Janeiro'] + df_total['Fevereiro'] + df_total['Marco']\n",
        "df_total['Total_Segundo_Trimestre'] = df_total['Abril'] + df_total['Maio'] + df_total['Junho']\n",
        "df_total['Total_Terceiro_Trimestre'] = df_total['Julho'] + df_total['Agosto'] + df_total['Setembro']\n",
        "df_total['Total_Quarto_Trimestre'] = df_total['Outubro'] + df_total['Novembro'] + df_total['Dezembro']"
      ],
      "metadata": {
        "id": "Es7zWbuhi8Tk"
      },
      "execution_count": 13,
      "outputs": []
    },
    {
      "cell_type": "markdown",
      "source": [
        "Exemplo de Escalonamento de Dados:"
      ],
      "metadata": {
        "id": "wTgoPFRei-S-"
      }
    },
    {
      "cell_type": "code",
      "source": [
        "from sklearn.preprocessing import MinMaxScaler\n",
        "\n",
        "scaler = MinMaxScaler()\n",
        "df_total[['Janeiro', 'Fevereiro', 'Marco', 'Abril' , 'Maio' , 'Junho' , 'Julho' , 'Agosto' , 'Setembro' , 'Outubro' , 'Novembro' , 'Dezembro']] = scaler.fit_transform(df_total[['Janeiro', 'Fevereiro', 'Marco', 'Abril' , 'Maio' , 'Junho' , 'Julho' , 'Agosto' , 'Setembro' , 'Outubro' , 'Novembro' , 'Dezembro']])"
      ],
      "metadata": {
        "id": "zG0OG5Jqi_f0"
      },
      "execution_count": 15,
      "outputs": []
    },
    {
      "cell_type": "markdown",
      "source": [
        "Exemplo de One-Hot Encoding:"
      ],
      "metadata": {
        "id": "nV3r9NtxjD6V"
      }
    },
    {
      "cell_type": "code",
      "source": [
        "from sklearn.preprocessing import OneHotEncoder\n",
        "\n",
        "encoder = OneHotEncoder(handle_unknown='ignore')\n",
        "encoder.fit(df_total[['Natureza']])\n",
        "encoded_data = encoder.transform(df_total[['Natureza']]).toarray()"
      ],
      "metadata": {
        "id": "x1rcZKQujFH0"
      },
      "execution_count": 16,
      "outputs": []
    },
    {
      "cell_type": "markdown",
      "source": [
        "# Passo 3: Transformação dos Dados\n",
        "\n",
        "Neste passo, vamos realizar transformações nos dados para facilitar a análise e a visualização. A transformação dos dados envolve a criação de novas variáveis e a categorização de dados.\n",
        "\n",
        "Neste notebook, demonstramos como transformar os dados para facilitar a análise e a visualização, criando novas variáveis e agrupando os dados em categorias.\n",
        "\n",
        "## Importando Bibliotecas:"
      ],
      "metadata": {
        "id": "IKWV4zcFjIyu"
      }
    },
    {
      "cell_type": "code",
      "source": [
        "import pandas as pd"
      ],
      "metadata": {
        "id": "jHvvbLwfjQ_D"
      },
      "execution_count": null,
      "outputs": []
    },
    {
      "cell_type": "markdown",
      "source": [
        "Carregando o DataFrame:"
      ],
      "metadata": {
        "id": "pGVufY1vjU2r"
      }
    },
    {
      "cell_type": "code",
      "source": [
        "# Assumindo que o DataFrame 'df_total' foi processado nos passos anteriores\n",
        "df_total = pd.read_csv(\"data/processed/dados_limpos.csv\")"
      ],
      "metadata": {
        "id": "S1alZZ-tjWBm"
      },
      "execution_count": 17,
      "outputs": []
    },
    {
      "cell_type": "markdown",
      "source": [
        "## Criando Novas Variáveis:\n",
        "\n",
        "Criamos novas colunas para somar o número de ocorrências em cada trimestre.\n",
        "\n",
        "- Criando Colunas de Trimestre:"
      ],
      "metadata": {
        "id": "5Sn9a4eWjZyD"
      }
    },
    {
      "cell_type": "code",
      "source": [
        "df_total['Total_Primeiro_Trimestre'] = df_total['Janeiro'] + df_total['Fevereiro'] + df_total['Marco']\n",
        "df_total['Total_Segundo_Trimestre'] = df_total['Abril'] + df_total['Maio'] + df_total['Junho']\n",
        "df_total['Total_Terceiro_Trimestre'] = df_total['Julho'] + df_total['Agosto'] + df_total['Setembro']\n",
        "df_total['Total_Quarto_Trimestre'] = df_total['Outubro'] + df_total['Novembro'] + df_total['Dezembro']"
      ],
      "metadata": {
        "id": "t1T_M2U1jcsP"
      },
      "execution_count": 18,
      "outputs": []
    },
    {
      "cell_type": "markdown",
      "source": [
        "Criamos uma coluna com o total de ocorrências por linha, somando todas as ocorrências mensais.\n",
        "\n",
        "- Criando Coluna de Total de Ocorrências:"
      ],
      "metadata": {
        "id": "YeSjVHA4jeow"
      }
    },
    {
      "cell_type": "code",
      "source": [
        "df_total['Total_Ocorrencias'] = df_total.iloc[:, 1:14].sum(axis=1)"
      ],
      "metadata": {
        "id": "D52UBBDRjgj3"
      },
      "execution_count": 19,
      "outputs": []
    },
    {
      "cell_type": "markdown",
      "source": [
        "## Categorizando Dados:\n",
        "\n",
        "Classificamos os crimes em categorias mais amplas, como \"Crimes Violentos\" e \"Crimes Patrimoniais\", para análise mais abrangente.\n",
        "\n",
        "- Criando Colunas Categóricas:"
      ],
      "metadata": {
        "id": "l0RWVkPLjign"
      }
    },
    {
      "cell_type": "code",
      "source": [
        "df_total"
      ],
      "metadata": {
        "colab": {
          "base_uri": "https://localhost:8080/",
          "height": 444
        },
        "id": "EDJD56qE8tKq",
        "outputId": "b2836f5d-b3c2-459d-8cc9-384790ed507b"
      },
      "execution_count": 32,
      "outputs": [
        {
          "output_type": "execute_result",
          "data": {
            "text/plain": [
              "     Natureza  Janeiro  Fevereiro  Marco  Abril  Maio  Junho  Julho  Agosto  \\\n",
              "0           0        0          1      0      1   0.0    0.0    1.0     1.0   \n",
              "1           0        0          1      0      1   0.0    0.0    1.0     1.0   \n",
              "2           0        0          0      0      0   0.0    0.0    0.0     0.0   \n",
              "3           0        0          0      0      0   0.0    0.0    0.0     0.0   \n",
              "4           0        1          0      1      1   1.0    1.0    2.0     0.0   \n",
              "..        ...      ...        ...    ...    ...   ...    ...    ...     ...   \n",
              "110         0        0          0      1      0   0.0    0.0    0.0     0.0   \n",
              "111         0        0          0      0      0   0.0    0.0    0.0     0.0   \n",
              "112         0        0          0      0      0   0.0    0.0    0.0     0.0   \n",
              "113         0      136        138     67      0   0.0    0.0    0.0     0.0   \n",
              "114         0        5          3      1      0   0.0    0.0    0.0     0.0   \n",
              "\n",
              "     Setembro  ...  Novembro  Dezembro  Total   Ano  Total_Primeiro_Trimestre  \\\n",
              "0         1.0  ...       1.0       2.0    8.0  2024                         1   \n",
              "1         1.0  ...       1.0       2.0    8.0  2024                         1   \n",
              "2         0.0  ...       0.0       0.0    0.0  2024                         0   \n",
              "3         0.0  ...       0.0       0.0    0.0  2024                         0   \n",
              "4         2.0  ...       0.0       1.0   11.0  2024                         2   \n",
              "..        ...  ...       ...       ...    ...   ...                       ...   \n",
              "110       0.0  ...       0.0       0.0    1.0  2024                         1   \n",
              "111       0.0  ...       0.0       0.0    0.0  2024                         0   \n",
              "112       0.0  ...       0.0       0.0    0.0  2024                         0   \n",
              "113       0.0  ...       0.0       0.0  341.0  2024                       341   \n",
              "114       0.0  ...       0.0       0.0    9.0  2024                         9   \n",
              "\n",
              "     Total_Segundo_Trimestre  Total_Terceiro_Trimestre  \\\n",
              "0                        1.0                       3.0   \n",
              "1                        1.0                       3.0   \n",
              "2                        0.0                       0.0   \n",
              "3                        0.0                       0.0   \n",
              "4                        3.0                       4.0   \n",
              "..                       ...                       ...   \n",
              "110                      0.0                       0.0   \n",
              "111                      0.0                       0.0   \n",
              "112                      0.0                       0.0   \n",
              "113                      0.0                       0.0   \n",
              "114                      0.0                       0.0   \n",
              "\n",
              "     Total_Quarto_Trimestre  Total_Ocorrencias  Categoria_Crime  \n",
              "0                       3.0               16.0           Outros  \n",
              "1                       3.0               16.0           Outros  \n",
              "2                       0.0                0.0           Outros  \n",
              "3                       0.0                0.0           Outros  \n",
              "4                       2.0               22.0           Outros  \n",
              "..                      ...                ...              ...  \n",
              "110                     0.0                2.0           Outros  \n",
              "111                     0.0                0.0           Outros  \n",
              "112                     0.0                0.0           Outros  \n",
              "113                     0.0              682.0           Outros  \n",
              "114                     0.0               18.0           Outros  \n",
              "\n",
              "[115 rows x 21 columns]"
            ],
            "text/html": [
              "\n",
              "  <div id=\"df-38248b0a-1035-49c6-93e7-43d491437e92\" class=\"colab-df-container\">\n",
              "    <div>\n",
              "<style scoped>\n",
              "    .dataframe tbody tr th:only-of-type {\n",
              "        vertical-align: middle;\n",
              "    }\n",
              "\n",
              "    .dataframe tbody tr th {\n",
              "        vertical-align: top;\n",
              "    }\n",
              "\n",
              "    .dataframe thead th {\n",
              "        text-align: right;\n",
              "    }\n",
              "</style>\n",
              "<table border=\"1\" class=\"dataframe\">\n",
              "  <thead>\n",
              "    <tr style=\"text-align: right;\">\n",
              "      <th></th>\n",
              "      <th>Natureza</th>\n",
              "      <th>Janeiro</th>\n",
              "      <th>Fevereiro</th>\n",
              "      <th>Marco</th>\n",
              "      <th>Abril</th>\n",
              "      <th>Maio</th>\n",
              "      <th>Junho</th>\n",
              "      <th>Julho</th>\n",
              "      <th>Agosto</th>\n",
              "      <th>Setembro</th>\n",
              "      <th>...</th>\n",
              "      <th>Novembro</th>\n",
              "      <th>Dezembro</th>\n",
              "      <th>Total</th>\n",
              "      <th>Ano</th>\n",
              "      <th>Total_Primeiro_Trimestre</th>\n",
              "      <th>Total_Segundo_Trimestre</th>\n",
              "      <th>Total_Terceiro_Trimestre</th>\n",
              "      <th>Total_Quarto_Trimestre</th>\n",
              "      <th>Total_Ocorrencias</th>\n",
              "      <th>Categoria_Crime</th>\n",
              "    </tr>\n",
              "  </thead>\n",
              "  <tbody>\n",
              "    <tr>\n",
              "      <th>0</th>\n",
              "      <td>0</td>\n",
              "      <td>0</td>\n",
              "      <td>1</td>\n",
              "      <td>0</td>\n",
              "      <td>1</td>\n",
              "      <td>0.0</td>\n",
              "      <td>0.0</td>\n",
              "      <td>1.0</td>\n",
              "      <td>1.0</td>\n",
              "      <td>1.0</td>\n",
              "      <td>...</td>\n",
              "      <td>1.0</td>\n",
              "      <td>2.0</td>\n",
              "      <td>8.0</td>\n",
              "      <td>2024</td>\n",
              "      <td>1</td>\n",
              "      <td>1.0</td>\n",
              "      <td>3.0</td>\n",
              "      <td>3.0</td>\n",
              "      <td>16.0</td>\n",
              "      <td>Outros</td>\n",
              "    </tr>\n",
              "    <tr>\n",
              "      <th>1</th>\n",
              "      <td>0</td>\n",
              "      <td>0</td>\n",
              "      <td>1</td>\n",
              "      <td>0</td>\n",
              "      <td>1</td>\n",
              "      <td>0.0</td>\n",
              "      <td>0.0</td>\n",
              "      <td>1.0</td>\n",
              "      <td>1.0</td>\n",
              "      <td>1.0</td>\n",
              "      <td>...</td>\n",
              "      <td>1.0</td>\n",
              "      <td>2.0</td>\n",
              "      <td>8.0</td>\n",
              "      <td>2024</td>\n",
              "      <td>1</td>\n",
              "      <td>1.0</td>\n",
              "      <td>3.0</td>\n",
              "      <td>3.0</td>\n",
              "      <td>16.0</td>\n",
              "      <td>Outros</td>\n",
              "    </tr>\n",
              "    <tr>\n",
              "      <th>2</th>\n",
              "      <td>0</td>\n",
              "      <td>0</td>\n",
              "      <td>0</td>\n",
              "      <td>0</td>\n",
              "      <td>0</td>\n",
              "      <td>0.0</td>\n",
              "      <td>0.0</td>\n",
              "      <td>0.0</td>\n",
              "      <td>0.0</td>\n",
              "      <td>0.0</td>\n",
              "      <td>...</td>\n",
              "      <td>0.0</td>\n",
              "      <td>0.0</td>\n",
              "      <td>0.0</td>\n",
              "      <td>2024</td>\n",
              "      <td>0</td>\n",
              "      <td>0.0</td>\n",
              "      <td>0.0</td>\n",
              "      <td>0.0</td>\n",
              "      <td>0.0</td>\n",
              "      <td>Outros</td>\n",
              "    </tr>\n",
              "    <tr>\n",
              "      <th>3</th>\n",
              "      <td>0</td>\n",
              "      <td>0</td>\n",
              "      <td>0</td>\n",
              "      <td>0</td>\n",
              "      <td>0</td>\n",
              "      <td>0.0</td>\n",
              "      <td>0.0</td>\n",
              "      <td>0.0</td>\n",
              "      <td>0.0</td>\n",
              "      <td>0.0</td>\n",
              "      <td>...</td>\n",
              "      <td>0.0</td>\n",
              "      <td>0.0</td>\n",
              "      <td>0.0</td>\n",
              "      <td>2024</td>\n",
              "      <td>0</td>\n",
              "      <td>0.0</td>\n",
              "      <td>0.0</td>\n",
              "      <td>0.0</td>\n",
              "      <td>0.0</td>\n",
              "      <td>Outros</td>\n",
              "    </tr>\n",
              "    <tr>\n",
              "      <th>4</th>\n",
              "      <td>0</td>\n",
              "      <td>1</td>\n",
              "      <td>0</td>\n",
              "      <td>1</td>\n",
              "      <td>1</td>\n",
              "      <td>1.0</td>\n",
              "      <td>1.0</td>\n",
              "      <td>2.0</td>\n",
              "      <td>0.0</td>\n",
              "      <td>2.0</td>\n",
              "      <td>...</td>\n",
              "      <td>0.0</td>\n",
              "      <td>1.0</td>\n",
              "      <td>11.0</td>\n",
              "      <td>2024</td>\n",
              "      <td>2</td>\n",
              "      <td>3.0</td>\n",
              "      <td>4.0</td>\n",
              "      <td>2.0</td>\n",
              "      <td>22.0</td>\n",
              "      <td>Outros</td>\n",
              "    </tr>\n",
              "    <tr>\n",
              "      <th>...</th>\n",
              "      <td>...</td>\n",
              "      <td>...</td>\n",
              "      <td>...</td>\n",
              "      <td>...</td>\n",
              "      <td>...</td>\n",
              "      <td>...</td>\n",
              "      <td>...</td>\n",
              "      <td>...</td>\n",
              "      <td>...</td>\n",
              "      <td>...</td>\n",
              "      <td>...</td>\n",
              "      <td>...</td>\n",
              "      <td>...</td>\n",
              "      <td>...</td>\n",
              "      <td>...</td>\n",
              "      <td>...</td>\n",
              "      <td>...</td>\n",
              "      <td>...</td>\n",
              "      <td>...</td>\n",
              "      <td>...</td>\n",
              "      <td>...</td>\n",
              "    </tr>\n",
              "    <tr>\n",
              "      <th>110</th>\n",
              "      <td>0</td>\n",
              "      <td>0</td>\n",
              "      <td>0</td>\n",
              "      <td>1</td>\n",
              "      <td>0</td>\n",
              "      <td>0.0</td>\n",
              "      <td>0.0</td>\n",
              "      <td>0.0</td>\n",
              "      <td>0.0</td>\n",
              "      <td>0.0</td>\n",
              "      <td>...</td>\n",
              "      <td>0.0</td>\n",
              "      <td>0.0</td>\n",
              "      <td>1.0</td>\n",
              "      <td>2024</td>\n",
              "      <td>1</td>\n",
              "      <td>0.0</td>\n",
              "      <td>0.0</td>\n",
              "      <td>0.0</td>\n",
              "      <td>2.0</td>\n",
              "      <td>Outros</td>\n",
              "    </tr>\n",
              "    <tr>\n",
              "      <th>111</th>\n",
              "      <td>0</td>\n",
              "      <td>0</td>\n",
              "      <td>0</td>\n",
              "      <td>0</td>\n",
              "      <td>0</td>\n",
              "      <td>0.0</td>\n",
              "      <td>0.0</td>\n",
              "      <td>0.0</td>\n",
              "      <td>0.0</td>\n",
              "      <td>0.0</td>\n",
              "      <td>...</td>\n",
              "      <td>0.0</td>\n",
              "      <td>0.0</td>\n",
              "      <td>0.0</td>\n",
              "      <td>2024</td>\n",
              "      <td>0</td>\n",
              "      <td>0.0</td>\n",
              "      <td>0.0</td>\n",
              "      <td>0.0</td>\n",
              "      <td>0.0</td>\n",
              "      <td>Outros</td>\n",
              "    </tr>\n",
              "    <tr>\n",
              "      <th>112</th>\n",
              "      <td>0</td>\n",
              "      <td>0</td>\n",
              "      <td>0</td>\n",
              "      <td>0</td>\n",
              "      <td>0</td>\n",
              "      <td>0.0</td>\n",
              "      <td>0.0</td>\n",
              "      <td>0.0</td>\n",
              "      <td>0.0</td>\n",
              "      <td>0.0</td>\n",
              "      <td>...</td>\n",
              "      <td>0.0</td>\n",
              "      <td>0.0</td>\n",
              "      <td>0.0</td>\n",
              "      <td>2024</td>\n",
              "      <td>0</td>\n",
              "      <td>0.0</td>\n",
              "      <td>0.0</td>\n",
              "      <td>0.0</td>\n",
              "      <td>0.0</td>\n",
              "      <td>Outros</td>\n",
              "    </tr>\n",
              "    <tr>\n",
              "      <th>113</th>\n",
              "      <td>0</td>\n",
              "      <td>136</td>\n",
              "      <td>138</td>\n",
              "      <td>67</td>\n",
              "      <td>0</td>\n",
              "      <td>0.0</td>\n",
              "      <td>0.0</td>\n",
              "      <td>0.0</td>\n",
              "      <td>0.0</td>\n",
              "      <td>0.0</td>\n",
              "      <td>...</td>\n",
              "      <td>0.0</td>\n",
              "      <td>0.0</td>\n",
              "      <td>341.0</td>\n",
              "      <td>2024</td>\n",
              "      <td>341</td>\n",
              "      <td>0.0</td>\n",
              "      <td>0.0</td>\n",
              "      <td>0.0</td>\n",
              "      <td>682.0</td>\n",
              "      <td>Outros</td>\n",
              "    </tr>\n",
              "    <tr>\n",
              "      <th>114</th>\n",
              "      <td>0</td>\n",
              "      <td>5</td>\n",
              "      <td>3</td>\n",
              "      <td>1</td>\n",
              "      <td>0</td>\n",
              "      <td>0.0</td>\n",
              "      <td>0.0</td>\n",
              "      <td>0.0</td>\n",
              "      <td>0.0</td>\n",
              "      <td>0.0</td>\n",
              "      <td>...</td>\n",
              "      <td>0.0</td>\n",
              "      <td>0.0</td>\n",
              "      <td>9.0</td>\n",
              "      <td>2024</td>\n",
              "      <td>9</td>\n",
              "      <td>0.0</td>\n",
              "      <td>0.0</td>\n",
              "      <td>0.0</td>\n",
              "      <td>18.0</td>\n",
              "      <td>Outros</td>\n",
              "    </tr>\n",
              "  </tbody>\n",
              "</table>\n",
              "<p>115 rows × 21 columns</p>\n",
              "</div>\n",
              "    <div class=\"colab-df-buttons\">\n",
              "\n",
              "  <div class=\"colab-df-container\">\n",
              "    <button class=\"colab-df-convert\" onclick=\"convertToInteractive('df-38248b0a-1035-49c6-93e7-43d491437e92')\"\n",
              "            title=\"Convert this dataframe to an interactive table.\"\n",
              "            style=\"display:none;\">\n",
              "\n",
              "  <svg xmlns=\"http://www.w3.org/2000/svg\" height=\"24px\" viewBox=\"0 -960 960 960\">\n",
              "    <path d=\"M120-120v-720h720v720H120Zm60-500h600v-160H180v160Zm220 220h160v-160H400v160Zm0 220h160v-160H400v160ZM180-400h160v-160H180v160Zm440 0h160v-160H620v160ZM180-180h160v-160H180v160Zm440 0h160v-160H620v160Z\"/>\n",
              "  </svg>\n",
              "    </button>\n",
              "\n",
              "  <style>\n",
              "    .colab-df-container {\n",
              "      display:flex;\n",
              "      gap: 12px;\n",
              "    }\n",
              "\n",
              "    .colab-df-convert {\n",
              "      background-color: #E8F0FE;\n",
              "      border: none;\n",
              "      border-radius: 50%;\n",
              "      cursor: pointer;\n",
              "      display: none;\n",
              "      fill: #1967D2;\n",
              "      height: 32px;\n",
              "      padding: 0 0 0 0;\n",
              "      width: 32px;\n",
              "    }\n",
              "\n",
              "    .colab-df-convert:hover {\n",
              "      background-color: #E2EBFA;\n",
              "      box-shadow: 0px 1px 2px rgba(60, 64, 67, 0.3), 0px 1px 3px 1px rgba(60, 64, 67, 0.15);\n",
              "      fill: #174EA6;\n",
              "    }\n",
              "\n",
              "    .colab-df-buttons div {\n",
              "      margin-bottom: 4px;\n",
              "    }\n",
              "\n",
              "    [theme=dark] .colab-df-convert {\n",
              "      background-color: #3B4455;\n",
              "      fill: #D2E3FC;\n",
              "    }\n",
              "\n",
              "    [theme=dark] .colab-df-convert:hover {\n",
              "      background-color: #434B5C;\n",
              "      box-shadow: 0px 1px 3px 1px rgba(0, 0, 0, 0.15);\n",
              "      filter: drop-shadow(0px 1px 2px rgba(0, 0, 0, 0.3));\n",
              "      fill: #FFFFFF;\n",
              "    }\n",
              "  </style>\n",
              "\n",
              "    <script>\n",
              "      const buttonEl =\n",
              "        document.querySelector('#df-38248b0a-1035-49c6-93e7-43d491437e92 button.colab-df-convert');\n",
              "      buttonEl.style.display =\n",
              "        google.colab.kernel.accessAllowed ? 'block' : 'none';\n",
              "\n",
              "      async function convertToInteractive(key) {\n",
              "        const element = document.querySelector('#df-38248b0a-1035-49c6-93e7-43d491437e92');\n",
              "        const dataTable =\n",
              "          await google.colab.kernel.invokeFunction('convertToInteractive',\n",
              "                                                    [key], {});\n",
              "        if (!dataTable) return;\n",
              "\n",
              "        const docLinkHtml = 'Like what you see? Visit the ' +\n",
              "          '<a target=\"_blank\" href=https://colab.research.google.com/notebooks/data_table.ipynb>data table notebook</a>'\n",
              "          + ' to learn more about interactive tables.';\n",
              "        element.innerHTML = '';\n",
              "        dataTable['output_type'] = 'display_data';\n",
              "        await google.colab.output.renderOutput(dataTable, element);\n",
              "        const docLink = document.createElement('div');\n",
              "        docLink.innerHTML = docLinkHtml;\n",
              "        element.appendChild(docLink);\n",
              "      }\n",
              "    </script>\n",
              "  </div>\n",
              "\n",
              "\n",
              "<div id=\"df-0ee95aa4-7364-4dff-b401-71e5070d06df\">\n",
              "  <button class=\"colab-df-quickchart\" onclick=\"quickchart('df-0ee95aa4-7364-4dff-b401-71e5070d06df')\"\n",
              "            title=\"Suggest charts\"\n",
              "            style=\"display:none;\">\n",
              "\n",
              "<svg xmlns=\"http://www.w3.org/2000/svg\" height=\"24px\"viewBox=\"0 0 24 24\"\n",
              "     width=\"24px\">\n",
              "    <g>\n",
              "        <path d=\"M19 3H5c-1.1 0-2 .9-2 2v14c0 1.1.9 2 2 2h14c1.1 0 2-.9 2-2V5c0-1.1-.9-2-2-2zM9 17H7v-7h2v7zm4 0h-2V7h2v10zm4 0h-2v-4h2v4z\"/>\n",
              "    </g>\n",
              "</svg>\n",
              "  </button>\n",
              "\n",
              "<style>\n",
              "  .colab-df-quickchart {\n",
              "      --bg-color: #E8F0FE;\n",
              "      --fill-color: #1967D2;\n",
              "      --hover-bg-color: #E2EBFA;\n",
              "      --hover-fill-color: #174EA6;\n",
              "      --disabled-fill-color: #AAA;\n",
              "      --disabled-bg-color: #DDD;\n",
              "  }\n",
              "\n",
              "  [theme=dark] .colab-df-quickchart {\n",
              "      --bg-color: #3B4455;\n",
              "      --fill-color: #D2E3FC;\n",
              "      --hover-bg-color: #434B5C;\n",
              "      --hover-fill-color: #FFFFFF;\n",
              "      --disabled-bg-color: #3B4455;\n",
              "      --disabled-fill-color: #666;\n",
              "  }\n",
              "\n",
              "  .colab-df-quickchart {\n",
              "    background-color: var(--bg-color);\n",
              "    border: none;\n",
              "    border-radius: 50%;\n",
              "    cursor: pointer;\n",
              "    display: none;\n",
              "    fill: var(--fill-color);\n",
              "    height: 32px;\n",
              "    padding: 0;\n",
              "    width: 32px;\n",
              "  }\n",
              "\n",
              "  .colab-df-quickchart:hover {\n",
              "    background-color: var(--hover-bg-color);\n",
              "    box-shadow: 0 1px 2px rgba(60, 64, 67, 0.3), 0 1px 3px 1px rgba(60, 64, 67, 0.15);\n",
              "    fill: var(--button-hover-fill-color);\n",
              "  }\n",
              "\n",
              "  .colab-df-quickchart-complete:disabled,\n",
              "  .colab-df-quickchart-complete:disabled:hover {\n",
              "    background-color: var(--disabled-bg-color);\n",
              "    fill: var(--disabled-fill-color);\n",
              "    box-shadow: none;\n",
              "  }\n",
              "\n",
              "  .colab-df-spinner {\n",
              "    border: 2px solid var(--fill-color);\n",
              "    border-color: transparent;\n",
              "    border-bottom-color: var(--fill-color);\n",
              "    animation:\n",
              "      spin 1s steps(1) infinite;\n",
              "  }\n",
              "\n",
              "  @keyframes spin {\n",
              "    0% {\n",
              "      border-color: transparent;\n",
              "      border-bottom-color: var(--fill-color);\n",
              "      border-left-color: var(--fill-color);\n",
              "    }\n",
              "    20% {\n",
              "      border-color: transparent;\n",
              "      border-left-color: var(--fill-color);\n",
              "      border-top-color: var(--fill-color);\n",
              "    }\n",
              "    30% {\n",
              "      border-color: transparent;\n",
              "      border-left-color: var(--fill-color);\n",
              "      border-top-color: var(--fill-color);\n",
              "      border-right-color: var(--fill-color);\n",
              "    }\n",
              "    40% {\n",
              "      border-color: transparent;\n",
              "      border-right-color: var(--fill-color);\n",
              "      border-top-color: var(--fill-color);\n",
              "    }\n",
              "    60% {\n",
              "      border-color: transparent;\n",
              "      border-right-color: var(--fill-color);\n",
              "    }\n",
              "    80% {\n",
              "      border-color: transparent;\n",
              "      border-right-color: var(--fill-color);\n",
              "      border-bottom-color: var(--fill-color);\n",
              "    }\n",
              "    90% {\n",
              "      border-color: transparent;\n",
              "      border-bottom-color: var(--fill-color);\n",
              "    }\n",
              "  }\n",
              "</style>\n",
              "\n",
              "  <script>\n",
              "    async function quickchart(key) {\n",
              "      const quickchartButtonEl =\n",
              "        document.querySelector('#' + key + ' button');\n",
              "      quickchartButtonEl.disabled = true;  // To prevent multiple clicks.\n",
              "      quickchartButtonEl.classList.add('colab-df-spinner');\n",
              "      try {\n",
              "        const charts = await google.colab.kernel.invokeFunction(\n",
              "            'suggestCharts', [key], {});\n",
              "      } catch (error) {\n",
              "        console.error('Error during call to suggestCharts:', error);\n",
              "      }\n",
              "      quickchartButtonEl.classList.remove('colab-df-spinner');\n",
              "      quickchartButtonEl.classList.add('colab-df-quickchart-complete');\n",
              "    }\n",
              "    (() => {\n",
              "      let quickchartButtonEl =\n",
              "        document.querySelector('#df-0ee95aa4-7364-4dff-b401-71e5070d06df button');\n",
              "      quickchartButtonEl.style.display =\n",
              "        google.colab.kernel.accessAllowed ? 'block' : 'none';\n",
              "    })();\n",
              "  </script>\n",
              "</div>\n",
              "    </div>\n",
              "  </div>\n"
            ],
            "application/vnd.google.colaboratory.intrinsic+json": {
              "type": "dataframe",
              "variable_name": "df_total"
            }
          },
          "metadata": {},
          "execution_count": 32
        }
      ]
    },
    {
      "cell_type": "code",
      "source": [
        "df_total['Categoria_Crime'] = 'Outros'\n",
        "\n",
        "# Definindo categorias de crimes\n",
        "crimes_violentos = ['HOMICIDIO_DOLOSO', 'TENTATIVA DE HOMICÍDIO', 'LESÃO CORPORAL DOLOSA', 'LESÃO CORPORAL SEGUIDA DE MORTE', 'LATROCÍNIO', 'TOTAL_ESTUPRO']\n",
        "crimes_patrimoniais = ['ROUBO - OUTROS', 'ROUBO DE VEÍCULO', 'ROUBO A BANCO', 'ROUBO DE CARGA', 'FURTO - OUTROS', 'FURTO DE VEÍCULO']"
      ],
      "metadata": {
        "id": "lgw2INhzjmnW"
      },
      "execution_count": 28,
      "outputs": []
    },
    {
      "cell_type": "code",
      "source": [
        "# Convertendo float para int\n",
        "df_total['Natureza'] = df_total['Natureza'].fillna(0).astype(int)\n",
        "df_total['Natureza']"
      ],
      "metadata": {
        "colab": {
          "base_uri": "https://localhost:8080/"
        },
        "id": "qYvhAMYv3t4h",
        "outputId": "10a48c65-8197-48ab-dac3-4836143f0273"
      },
      "execution_count": 31,
      "outputs": [
        {
          "output_type": "execute_result",
          "data": {
            "text/plain": [
              "0      0\n",
              "1      0\n",
              "2      0\n",
              "3      0\n",
              "4      0\n",
              "      ..\n",
              "110    0\n",
              "111    0\n",
              "112    0\n",
              "113    0\n",
              "114    0\n",
              "Name: Natureza, Length: 115, dtype: int64"
            ]
          },
          "metadata": {},
          "execution_count": 31
        }
      ]
    },
    {
      "cell_type": "code",
      "source": [
        "# Classificando os crimes\n",
        "for index, row in df_total.iterrows():\n",
        "    if any(crime in row['Natureza'] for crime in crimes_violentos):\n",
        "        df_total.loc[index, 'Categoria_Crime'] = 'Crimes Violentos'\n",
        "    elif any(crime in row['Natureza'] for crime in crimes_patrimoniais):\n",
        "        df_total.loc[index, 'Categoria_Crime'] = 'Crimes Patrimoniais'"
      ],
      "metadata": {
        "colab": {
          "base_uri": "https://localhost:8080/",
          "height": 332
        },
        "id": "JxOcNVKQ5RQU",
        "outputId": "601e39d8-ec69-4a3d-d08a-dbc672965cb0"
      },
      "execution_count": 37,
      "outputs": [
        {
          "output_type": "error",
          "ename": "TypeError",
          "evalue": "argument of type 'int' is not iterable",
          "traceback": [
            "\u001b[0;31m---------------------------------------------------------------------------\u001b[0m",
            "\u001b[0;31mTypeError\u001b[0m                                 Traceback (most recent call last)",
            "\u001b[0;32m<ipython-input-37-84d448c645bc>\u001b[0m in \u001b[0;36m<cell line: 2>\u001b[0;34m()\u001b[0m\n\u001b[1;32m      1\u001b[0m \u001b[0;31m# Classificando os crimes\u001b[0m\u001b[0;34m\u001b[0m\u001b[0;34m\u001b[0m\u001b[0m\n\u001b[1;32m      2\u001b[0m \u001b[0;32mfor\u001b[0m \u001b[0mindex\u001b[0m\u001b[0;34m,\u001b[0m \u001b[0mrow\u001b[0m \u001b[0;32min\u001b[0m \u001b[0mdf_total\u001b[0m\u001b[0;34m.\u001b[0m\u001b[0miterrows\u001b[0m\u001b[0;34m(\u001b[0m\u001b[0;34m)\u001b[0m\u001b[0;34m:\u001b[0m\u001b[0;34m\u001b[0m\u001b[0;34m\u001b[0m\u001b[0m\n\u001b[0;32m----> 3\u001b[0;31m     \u001b[0;32mif\u001b[0m \u001b[0many\u001b[0m\u001b[0;34m(\u001b[0m\u001b[0mcrime\u001b[0m \u001b[0;32min\u001b[0m \u001b[0mrow\u001b[0m\u001b[0;34m[\u001b[0m\u001b[0;34m'Natureza'\u001b[0m\u001b[0;34m]\u001b[0m \u001b[0;32mfor\u001b[0m \u001b[0mcrime\u001b[0m \u001b[0;32min\u001b[0m \u001b[0mcrimes_violentos\u001b[0m\u001b[0;34m)\u001b[0m\u001b[0;34m:\u001b[0m\u001b[0;34m\u001b[0m\u001b[0;34m\u001b[0m\u001b[0m\n\u001b[0m\u001b[1;32m      4\u001b[0m         \u001b[0mdf_total\u001b[0m\u001b[0;34m.\u001b[0m\u001b[0mloc\u001b[0m\u001b[0;34m[\u001b[0m\u001b[0mindex\u001b[0m\u001b[0;34m,\u001b[0m \u001b[0;34m'Categoria_Crime'\u001b[0m\u001b[0;34m]\u001b[0m \u001b[0;34m=\u001b[0m \u001b[0;34m'Crimes Violentos'\u001b[0m\u001b[0;34m\u001b[0m\u001b[0;34m\u001b[0m\u001b[0m\n\u001b[1;32m      5\u001b[0m     \u001b[0;32melif\u001b[0m \u001b[0many\u001b[0m\u001b[0;34m(\u001b[0m\u001b[0mcrime\u001b[0m \u001b[0;32min\u001b[0m \u001b[0mrow\u001b[0m\u001b[0;34m[\u001b[0m\u001b[0;34m'Natureza'\u001b[0m\u001b[0;34m]\u001b[0m \u001b[0;32mfor\u001b[0m \u001b[0mcrime\u001b[0m \u001b[0;32min\u001b[0m \u001b[0mcrimes_patrimoniais\u001b[0m\u001b[0;34m)\u001b[0m\u001b[0;34m:\u001b[0m\u001b[0;34m\u001b[0m\u001b[0;34m\u001b[0m\u001b[0m\n",
            "\u001b[0;32m<ipython-input-37-84d448c645bc>\u001b[0m in \u001b[0;36m<genexpr>\u001b[0;34m(.0)\u001b[0m\n\u001b[1;32m      1\u001b[0m \u001b[0;31m# Classificando os crimes\u001b[0m\u001b[0;34m\u001b[0m\u001b[0;34m\u001b[0m\u001b[0m\n\u001b[1;32m      2\u001b[0m \u001b[0;32mfor\u001b[0m \u001b[0mindex\u001b[0m\u001b[0;34m,\u001b[0m \u001b[0mrow\u001b[0m \u001b[0;32min\u001b[0m \u001b[0mdf_total\u001b[0m\u001b[0;34m.\u001b[0m\u001b[0miterrows\u001b[0m\u001b[0;34m(\u001b[0m\u001b[0;34m)\u001b[0m\u001b[0;34m:\u001b[0m\u001b[0;34m\u001b[0m\u001b[0;34m\u001b[0m\u001b[0m\n\u001b[0;32m----> 3\u001b[0;31m     \u001b[0;32mif\u001b[0m \u001b[0many\u001b[0m\u001b[0;34m(\u001b[0m\u001b[0mcrime\u001b[0m \u001b[0;32min\u001b[0m \u001b[0mrow\u001b[0m\u001b[0;34m[\u001b[0m\u001b[0;34m'Natureza'\u001b[0m\u001b[0;34m]\u001b[0m \u001b[0;32mfor\u001b[0m \u001b[0mcrime\u001b[0m \u001b[0;32min\u001b[0m \u001b[0mcrimes_violentos\u001b[0m\u001b[0;34m)\u001b[0m\u001b[0;34m:\u001b[0m\u001b[0;34m\u001b[0m\u001b[0;34m\u001b[0m\u001b[0m\n\u001b[0m\u001b[1;32m      4\u001b[0m         \u001b[0mdf_total\u001b[0m\u001b[0;34m.\u001b[0m\u001b[0mloc\u001b[0m\u001b[0;34m[\u001b[0m\u001b[0mindex\u001b[0m\u001b[0;34m,\u001b[0m \u001b[0;34m'Categoria_Crime'\u001b[0m\u001b[0;34m]\u001b[0m \u001b[0;34m=\u001b[0m \u001b[0;34m'Crimes Violentos'\u001b[0m\u001b[0;34m\u001b[0m\u001b[0;34m\u001b[0m\u001b[0m\n\u001b[1;32m      5\u001b[0m     \u001b[0;32melif\u001b[0m \u001b[0many\u001b[0m\u001b[0;34m(\u001b[0m\u001b[0mcrime\u001b[0m \u001b[0;32min\u001b[0m \u001b[0mrow\u001b[0m\u001b[0;34m[\u001b[0m\u001b[0;34m'Natureza'\u001b[0m\u001b[0;34m]\u001b[0m \u001b[0;32mfor\u001b[0m \u001b[0mcrime\u001b[0m \u001b[0;32min\u001b[0m \u001b[0mcrimes_patrimoniais\u001b[0m\u001b[0;34m)\u001b[0m\u001b[0;34m:\u001b[0m\u001b[0;34m\u001b[0m\u001b[0;34m\u001b[0m\u001b[0m\n",
            "\u001b[0;31mTypeError\u001b[0m: argument of type 'int' is not iterable"
          ]
        }
      ]
    },
    {
      "cell_type": "code",
      "source": [
        "# Criando coluna com a categoria resumida\n",
        "df_total['Categoria_Crime_Resumida'] = df_total['Categoria_Crime'].apply(lambda x: x.split()[0] if x != 'Outros' else x)"
      ],
      "metadata": {
        "id": "T6UfVG015TiH"
      },
      "execution_count": null,
      "outputs": []
    },
    {
      "cell_type": "markdown",
      "source": [
        "Salvamos o DataFrame transformado em um arquivo CSV na pasta \"data/processed/\".\n",
        "\n",
        "- Salvando o DataFrame Transformado:"
      ],
      "metadata": {
        "id": "Z61u3HhMjpyv"
      }
    },
    {
      "cell_type": "code",
      "source": [
        "df_total.to_csv(\"data/processed/dados_transformados.csv\", index=False)"
      ],
      "metadata": {
        "id": "7nCO_qZGjrPv"
      },
      "execution_count": null,
      "outputs": []
    },
    {
      "cell_type": "markdown",
      "source": [
        "## Próximos Passos:\n",
        "- Realizar análise exploratória dos dados transformados.\n",
        "- Criar visualizações para comunicar os insights obtidos.\n",
        "- Investigar a necessidade de modelos preditivos ou outros tipos de análise mais complexos."
      ],
      "metadata": {
        "id": "DMVlZedxkBRY"
      }
    },
    {
      "cell_type": "markdown",
      "source": [
        "# Passo 4: Análise Exploratória dos Dados\n",
        "\n",
        "Neste passo, vamos realizar a análise exploratória dos dados, buscando identificar padrões, tendências e insights.\n",
        "\n",
        "Neste notebook, demonstramos como realizar a análise exploratória dos dados, utilizando gráficos e ferramentas para identificar padrões e tendências. Os insights obtidos nesse passo serão cruciais para direcionar as próximas etapas da análise.\n",
        "\n",
        "## Importando Bibliotecas:"
      ],
      "metadata": {
        "id": "Nu_Tr-uOkOS-"
      }
    },
    {
      "cell_type": "code",
      "source": [
        "import pandas as pd\n",
        "import matplotlib.pyplot as plt\n",
        "import seaborn as sns"
      ],
      "metadata": {
        "id": "OCfrSEtBkUpt"
      },
      "execution_count": null,
      "outputs": []
    },
    {
      "cell_type": "markdown",
      "source": [
        "## Carregando o DataFrame:"
      ],
      "metadata": {
        "id": "oLsaBOeSkWm2"
      }
    },
    {
      "cell_type": "code",
      "source": [
        "# Assumindo que o DataFrame 'df_total' foi transformado nos passos anteriores\n",
        "df_total = pd.read_csv(\"data/processed/dados_transformados.csv\")"
      ],
      "metadata": {
        "id": "AhXqDgsDkYNC"
      },
      "execution_count": null,
      "outputs": []
    },
    {
      "cell_type": "markdown",
      "source": [
        "## Analisando Distribuição de Ocorrências:\n",
        "\n",
        "- Total de Ocorrências por Mês:"
      ],
      "metadata": {
        "id": "SJ6xzb4CkabW"
      }
    },
    {
      "cell_type": "code",
      "source": [
        "plt.figure(figsize=(12, 6))\n",
        "sns.barplot(x=df_total.columns[1:13], y=df_total.iloc[:, 1:13].sum())\n",
        "plt.title(\"Total de Ocorrências por Mês\")\n",
        "plt.xlabel(\"Mês\")\n",
        "plt.ylabel(\"Número de Ocorrências\")\n",
        "plt.show()"
      ],
      "metadata": {
        "id": "VE3TdxX-kd2_"
      },
      "execution_count": null,
      "outputs": []
    },
    {
      "cell_type": "markdown",
      "source": [
        "- Total de Ocorrências por Trimestre:"
      ],
      "metadata": {
        "id": "hjis7-iHkfyj"
      }
    },
    {
      "cell_type": "code",
      "source": [
        "plt.figure(figsize=(12, 6))\n",
        "sns.barplot(x=['1º Trimestre', '2º Trimestre', '3º Trimestre', '4º Trimestre'], y=[df_total['Total_Primeiro_Trimestre'].sum(), df_total['Total_Segundo_Trimestre'].sum(), df_total['Total_Terceiro_Trimestre'].sum(), df_total['Total_Quarto_Trimestre'].sum()])\n",
        "plt.title(\"Total de Ocorrências por Trimestre\")\n",
        "plt.xlabel(\"Trimestre\")\n",
        "plt.ylabel(\"Número de Ocorrências\")\n",
        "plt.show()"
      ],
      "metadata": {
        "id": "OcZtqlXbkhr_"
      },
      "execution_count": null,
      "outputs": []
    },
    {
      "cell_type": "markdown",
      "source": [
        "- Distribuição de Ocorrências por Categoria:"
      ],
      "metadata": {
        "id": "WUBLALpzkjSO"
      }
    },
    {
      "cell_type": "code",
      "source": [
        "plt.figure(figsize=(12, 6))\n",
        "sns.countplot(x='Categoria_Crime_Resumida', data=df_total)\n",
        "plt.title(\"Distribuição de Ocorrências por Categoria de Crime\")\n",
        "plt.xlabel(\"Categoria de Crime\")\n",
        "plt.ylabel(\"Número de Ocorrências\")\n",
        "plt.show()"
      ],
      "metadata": {
        "id": "tnYx-EX4kktO"
      },
      "execution_count": null,
      "outputs": []
    },
    {
      "cell_type": "markdown",
      "source": [
        "## Analisando Tendências ao Longo do Ano:\n",
        "\n",
        "- Tendência de Ocorrências por Mês:"
      ],
      "metadata": {
        "id": "QvgHHDyqkmez"
      }
    },
    {
      "cell_type": "code",
      "source": [
        "plt.figure(figsize=(12, 6))\n",
        "sns.lineplot(x=df_total.columns[1:13], y=df_total.iloc[:, 1:13].sum(), marker='o')\n",
        "plt.title(\"Tendência de Ocorrências por Mês\")\n",
        "plt.xlabel(\"Mês\")\n",
        "plt.ylabel(\"Número de Ocorrências\")\n",
        "plt.show()"
      ],
      "metadata": {
        "id": "vMoYTqMUkpGz"
      },
      "execution_count": null,
      "outputs": []
    },
    {
      "cell_type": "markdown",
      "source": [
        "- Tendência de Ocorrências por Trimestre:"
      ],
      "metadata": {
        "id": "Z0Z4rEXbkrII"
      }
    },
    {
      "cell_type": "code",
      "source": [
        "plt.figure(figsize=(12, 6))\n",
        "sns.lineplot(x=['1º Trimestre', '2º Trimestre', '3º Trimestre', '4º Trimestre'], y=[df_total['Total_Primeiro_Trimestre'].sum(), df_total['Total_Segundo_Trimestre'].sum(), df_total['Total_Terceiro_Trimestre'].sum(), df_total['Total_Quarto_Trimestre'].sum()], marker='o')\n",
        "plt.title(\"Tendência de Ocorrências por Trimestre\")\n",
        "plt.xlabel(\"Trimestre\")\n",
        "plt.ylabel(\"Número de Ocorrências\")\n",
        "plt.show()"
      ],
      "metadata": {
        "id": "UD__GOrRksty"
      },
      "execution_count": null,
      "outputs": []
    },
    {
      "cell_type": "markdown",
      "source": [
        "## Analisando Correlação entre Variáveis:\n",
        "\n",
        "- Matriz de Correlação:"
      ],
      "metadata": {
        "id": "YF54bF1gkuks"
      }
    },
    {
      "cell_type": "code",
      "source": [
        "plt.figure(figsize=(12, 6))\n",
        "correlation_matrix = df_total.corr()\n",
        "sns.heatmap(correlation_matrix, annot=True, cmap=\"coolwarm\")\n",
        "plt.title(\"Matriz de Correlação\")\n",
        "plt.show()"
      ],
      "metadata": {
        "id": "YgWkRMdAkyap"
      },
      "execution_count": null,
      "outputs": []
    },
    {
      "cell_type": "markdown",
      "source": [
        "## Analisando Ocorrências por Tipo de Crime:\n",
        "\n",
        "- Total de Ocorrências por Tipo de Crime:"
      ],
      "metadata": {
        "id": "fjzxmVMjk1bK"
      }
    },
    {
      "cell_type": "code",
      "source": [
        "plt.figure(figsize=(12, 6))\n",
        "sns.barplot(y=df_total['Natureza'].value_counts().index, x=df_total['Natureza'].value_counts().values)\n",
        "plt.title(\"Total de Ocorrências por Tipo de Crime\")\n",
        "plt.xlabel(\"Número de Ocorrências\")\n",
        "plt.ylabel(\"Tipo de Crime\")\n",
        "plt.show()"
      ],
      "metadata": {
        "id": "7pUCCACtk471"
      },
      "execution_count": null,
      "outputs": []
    },
    {
      "cell_type": "markdown",
      "source": [
        "## Explicação:\n",
        "- Analisando Distribuição de Ocorrências: Criamos gráficos de barras para visualizar o número total de ocorrências por mês, por trimestre e por categoria de crime.\n",
        "- Analisando Tendências: Criamos gráficos de linhas para observar a tendência de ocorrências ao longo do ano, por mês e por trimestre.\n",
        "- Analisando Correlação: Criamos uma matriz de correlação para verificar a relação entre as variáveis, utilizando um mapa de calor para visualizar a força da correlação.\n",
        "- Analisando Ocorrências por Tipo de Crime: Criamos um gráfico de barras para visualizar o número de ocorrências por tipo de crime.\n",
        "\n",
        "## Observações:\n",
        "- A análise exploratória fornece insights importantes sobre os dados, mas não realiza predições ou classificações.\n",
        "- Para análise mais complexa, como predição de ocorrências, podemos utilizar técnicas de mineração de dados e Machine Learning nos próximos passos.\n",
        "\n",
        "## Próximos Passos:\n",
        "- Realizar análises estatísticas mais avançadas, como teste de hipóteses.\n",
        "Criar modelos preditivos para prever a probabilidade de ocorrências.\n",
        "- Explorar técnicas de clusterização para identificar áreas com maior concentração de crimes."
      ],
      "metadata": {
        "id": "0CzNDodgk77A"
      }
    },
    {
      "cell_type": "markdown",
      "source": [
        "# Passo 5: Interpretação, Avaliação e Conhecimento\n",
        "\n",
        "Neste passo, vamos aprofundar a análise dos dados, interpretando os resultados da análise exploratória, realizando testes de hipóteses, criando modelos preditivos e explorando técnicas de clusterização.\n",
        "\n",
        "Neste notebook, exploramos a interpretação dos resultados da análise exploratória, realizamos testes de hipóteses, criamos modelos preditivos e aplicamos técnicas de clusterização para gerar conhecimento a partir dos dados de ocorrências criminais em Lins.\n",
        "\n",
        "## Importando Bibliotecas:"
      ],
      "metadata": {
        "id": "X2XVVIPvlTVJ"
      }
    },
    {
      "cell_type": "code",
      "source": [
        "import pandas as pd\n",
        "import matplotlib.pyplot as plt\n",
        "import seaborn as sns\n",
        "from scipy import stats\n",
        "from sklearn.linear_model import LinearRegression\n",
        "from sklearn.cluster import KMeans\n",
        "from sklearn.preprocessing import StandardScaler"
      ],
      "metadata": {
        "id": "7bJi2Ey6lacQ"
      },
      "execution_count": null,
      "outputs": []
    },
    {
      "cell_type": "markdown",
      "source": [
        "## Carregando o DataFrame:"
      ],
      "metadata": {
        "id": "jXtrzoXIlcyC"
      }
    },
    {
      "cell_type": "code",
      "source": [
        "# Assumindo que o DataFrame 'df_total' foi processado nos passos anteriores\n",
        "df_total = pd.read_csv(\"data/processed/dados_transformados.csv\")"
      ],
      "metadata": {
        "id": "omqvcEHflfFt"
      },
      "execution_count": null,
      "outputs": []
    },
    {
      "cell_type": "markdown",
      "source": [
        "## Interpretação dos Resultados da Análise Exploratória:\n",
        "\n",
        "- Observação:\n",
        " - Tendências: Observar as tendências de ocorrências por mês e por trimestre pode identificar períodos com maior risco de criminalidade.\n",
        " - Correlação: Analisar a matriz de correlação pode revelar se há relação entre diferentes tipos de crime ou entre crimes e variáveis como mês do ano ou trimestre.\n",
        " - Distribuição: A análise da distribuição de ocorrências por categoria de crime revela os tipos de crimes mais frequentes na cidade.\n",
        "\n",
        " ## Teste de Hipóteses:\n",
        "- Hipótese: O número de ocorrências é maior no segundo trimestre do ano.\n",
        "- Teste: Utilizar o teste t para amostras independentes para comparar o número de ocorrências no segundo trimestre com a média do número de ocorrências nos outros trimestres."
      ],
      "metadata": {
        "id": "qvqzlLD0liA_"
      }
    },
    {
      "cell_type": "code",
      "source": [
        "# Separar os dados do segundo trimestre\n",
        "segundo_trimestre = df_total['Total_Segundo_Trimestre']\n",
        "\n",
        "# Separar os dados dos outros trimestres\n",
        "outros_trimestres = df_total[['Total_Primeiro_Trimestre', 'Total_Terceiro_Trimestre', 'Total_Quarto_Trimestre']].sum(axis=1)\n",
        "\n",
        "# Realizar o teste t\n",
        "t_statistic, p_value = stats.ttest_ind(segundo_trimestre, outros_trimestres)\n",
        "\n",
        "# Imprimir os resultados\n",
        "print(f\"Estatística t: {t_statistic}\")\n",
        "print(f\"Valor p: {p_value}\")\n",
        "\n",
        "# Conclusões:\n",
        "# Se o valor p for menor que o nível de significância (por exemplo, 0.05), rejeitamos a hipótese nula e concluímos que o número de ocorrências é maior no segundo trimestre."
      ],
      "metadata": {
        "id": "5AoOzMb-lwaH"
      },
      "execution_count": null,
      "outputs": []
    },
    {
      "cell_type": "markdown",
      "source": [
        "## Modelagem Preditiva:\n",
        "\n",
        "- Objetivo: Criar um modelo de regressão linear para prever o número total de ocorrências em cada mês, com base nos dados históricos.\n",
        "- Variáveis: Utilizar as colunas do DataFrame que representam os meses (Janeiro a Dezembro) como variáveis explicativas e a coluna \"Total_Ocorrencias\" como variável resposta."
      ],
      "metadata": {
        "id": "Z19ZSD2Ll02b"
      }
    },
    {
      "cell_type": "code",
      "source": [
        "# Separar as variáveis explicativas e a variável resposta\n",
        "X = df_total.iloc[:, 1:13]\n",
        "y = df_total['Total_Ocorrencias']\n",
        "\n",
        "# Criar o modelo de regressão linear\n",
        "model = LinearRegression()\n",
        "\n",
        "# Treinar o modelo\n",
        "model.fit(X, y)\n",
        "\n",
        "# Prever o número de ocorrências para cada mês\n",
        "previsoes = model.predict(X)\n",
        "\n",
        "# Avaliar o modelo (por exemplo, usando R² ou erro médio absoluto)\n",
        "print(f\"R²: {model.score(X, y)}\")\n",
        "\n",
        "# Visualizar as previsões e os dados reais\n",
        "plt.figure(figsize=(12, 6))\n",
        "plt.plot(df_total.columns[1:13], y, label=\"Dados Reais\")\n",
        "plt.plot(df_total.columns[1:13], previsoes, label=\"Previsões\")\n",
        "plt.title(\"Previsões de Ocorrências\")\n",
        "plt.xlabel(\"Mês\")\n",
        "plt.ylabel(\"Número de Ocorrências\")\n",
        "plt.legend()\n",
        "plt.show()"
      ],
      "metadata": {
        "id": "HdHDa6_Ll4uy"
      },
      "execution_count": null,
      "outputs": []
    },
    {
      "cell_type": "markdown",
      "source": [
        "## Clusterização:\n",
        "\n",
        "- Objetivo: Identificar áreas com maior concentração de crimes, utilizando dados de localização (se disponível) e a coluna \"Total_Ocorrencias\".\n",
        "- Variáveis: Se os dados de localização forem disponíveis, utilizar as coordenadas geográficas (latitude e longitude). Caso contrário, utilizar o total de ocorrências por mês ou trimestre como proxy para a localização."
      ],
      "metadata": {
        "id": "xYK_AWhll7DT"
      }
    },
    {
      "cell_type": "code",
      "source": [
        "# Assumindo que a coluna 'Latitude' e 'Longitude' estão disponíveis\n",
        "X = df_total[['Latitude', 'Longitude']]\n",
        "\n",
        "# Escalonar os dados\n",
        "scaler = StandardScaler()\n",
        "X_scaled = scaler.fit_transform(X)\n",
        "\n",
        "# Criar o modelo KMeans\n",
        "kmeans = KMeans(n_clusters=3, random_state=0)\n",
        "\n",
        "# Treinar o modelo\n",
        "kmeans.fit(X_scaled)\n",
        "\n",
        "# Obter os clusters\n",
        "clusters = kmeans.labels_\n",
        "\n",
        "# Visualizar os clusters\n",
        "plt.figure(figsize=(12, 6))\n",
        "plt.scatter(X['Latitude'], X['Longitude'], c=clusters, cmap='viridis')\n",
        "plt.title(\"Clusters de Ocorrências\")\n",
        "plt.xlabel(\"Latitude\")\n",
        "plt.ylabel(\"Longitude\")\n",
        "plt.show()\n",
        "\n",
        "# Analisar as características dos clusters:\n",
        "# - Comparar o número de ocorrências em cada cluster.\n",
        "# - Investigar o tipo de crime predominante em cada cluster.\n",
        "# - Analisar se os clusters coincidem com áreas específicas da cidade."
      ],
      "metadata": {
        "id": "RmDGHJayl_vt"
      },
      "execution_count": null,
      "outputs": []
    },
    {
      "cell_type": "markdown",
      "source": [
        "## Explicação:\n",
        "- Interpretação: Baseamos a análise na observação de tendências, correlações e padrões identificados na análise exploratória.\n",
        "- Teste de Hipóteses: Utilizamos o teste t para avaliar a hipótese de que o número de ocorrências é maior no segundo trimestre.\n",
        "- Modelagem Preditiva: Criamos um modelo de regressão linear para prever o número de ocorrências em cada mês, utilizando os dados históricos.\n",
        "- Clusterização: Utilizando dados de localização (se disponíveis), podemos identificar áreas com maior concentração de crimes através da técnica KMeans.\n",
        "\n",
        "## Observações:\n",
        "- A interpretação dos resultados é crucial para gerar conhecimento e insights relevantes.\n",
        "- Os testes de hipóteses, modelos preditivos e técnicas de clusterização são ferramentas importantes para análise de dados mais profunda.\n",
        "- É importante lembrar que a precisão e a confiabilidade dos resultados dependem da qualidade dos dados e da escolha das técnicas de análise adequadas.\n",
        "\n",
        "## Próximos Passos:\n",
        "- Investigar a influência de variáveis socioeconômicas e demográficas na criminalidade.\n",
        "- Explorar outras técnicas de Machine Learning, como árvores de decisão ou redes neurais.\n",
        "- Desenvolver dashboards interativos para visualizar e analisar os dados."
      ],
      "metadata": {
        "id": "3HhASqQWmDrf"
      }
    }
  ]
}